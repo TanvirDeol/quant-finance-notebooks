{
 "cells": [
  {
   "cell_type": "markdown",
   "metadata": {},
   "source": [
    "# Net Present Value (NPV)\n",
    "We will calculate the Net Present Value (NPV) of a series of $n$ cash flows $C_1,C_2,...,C_n$ given a discount/interest rate $r$.\n",
    "\n",
    "The NPV formula is $$NPV = C_0 + \\sum_{t=1}^{n}\\frac{C_t}{(1+r)^t} = \\sum_{t=0}^{n}\\frac{C_t}{(1+r)^t}$$\n",
    "\n",
    "- $n$ is the number of cash flows\n",
    "- $C_0$ is the initial cash flow\n",
    "- $C_t$ is the cash flow at time $t$\n",
    "- $r$ is the discount/interest rate (used interchangeably)\n"
   ]
  },
  {
   "cell_type": "code",
   "execution_count": null,
   "metadata": {},
   "outputs": [
    {
     "name": "stdout",
     "output_type": "stream",
     "text": [
      "Cash Flows [473, 663, 338, 445, 330, 319, 356, 396, 377, 412, 547, 458, 261, 418, 474, 415, 287, 367, 399, 523, 271, 498, 343, 428, 320, 461, 333, 517, 368, 169, 328, 436, 343, 386, 301, 287, 492, 477, 371, 405, 331, 351, 502, 266, 404, 408, 505, 479, 180, 321]\n",
      "NPV is 5437.363508268809\n"
     ]
    }
   ],
   "source": [
    "import numpy as np\n",
    "n = 50\n",
    "r = 8/100 # 8%\n",
    "c = []\n",
    "# randomly generate n (integer) cash flows\n",
    "# from normal distrution N(400,100)\n",
    "for i in range(0,n):\n",
    "    c.append(int(np.random.normal(loc=400, scale=100)))\n",
    "print(\"Cash Flows:\",c)\n",
    "\n",
    "npv = 0\n",
    "for t in range(0,n):\n",
    "    npv += c[t]/pow(1+r,t)\n",
    "\n",
    "print(\"NPV:\",npv)\n"
   ]
  },
  {
   "cell_type": "markdown",
   "metadata": {},
   "source": [
    "### NPV Rule\n",
    "We accept a project (a series of cash flows) if $NPV>0$."
   ]
  },
  {
   "cell_type": "code",
   "execution_count": 4,
   "metadata": {},
   "outputs": [
    {
     "name": "stdout",
     "output_type": "stream",
     "text": [
      "We accept this project\n"
     ]
    }
   ],
   "source": [
    "if (npv > 0):\n",
    "    print(\"We accept this project\")\n",
    "else:\n",
    "    print(\"We reject this project\")"
   ]
  }
 ],
 "metadata": {
  "kernelspec": {
   "display_name": "Python 3",
   "language": "python",
   "name": "python3"
  },
  "language_info": {
   "codemirror_mode": {
    "name": "ipython",
    "version": 3
   },
   "file_extension": ".py",
   "mimetype": "text/x-python",
   "name": "python",
   "nbconvert_exporter": "python",
   "pygments_lexer": "ipython3",
   "version": "3.8.10"
  }
 },
 "nbformat": 4,
 "nbformat_minor": 2
}
